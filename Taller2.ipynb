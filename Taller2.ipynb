{
  "nbformat": 4,
  "nbformat_minor": 0,
  "metadata": {
    "colab": {
      "name": "Taller2.ipynb",
      "provenance": [],
      "authorship_tag": "ABX9TyPpzDGkFzziscsY3yXvVqsd",
      "include_colab_link": true
    },
    "kernelspec": {
      "name": "python3",
      "display_name": "Python 3"
    },
    "language_info": {
      "name": "python"
    }
  },
  "cells": [
    {
      "cell_type": "markdown",
      "metadata": {
        "id": "view-in-github",
        "colab_type": "text"
      },
      "source": [
        "<a href=\"https://colab.research.google.com/github/LeslyMolina22/Taller-2/blob/main/Taller2.ipynb\" target=\"_parent\"><img src=\"https://colab.research.google.com/assets/colab-badge.svg\" alt=\"Open In Colab\"/></a>"
      ]
    },
    {
      "cell_type": "markdown",
      "metadata": {
        "id": "Du3xi1juo1ZS"
      },
      "source": [
        "# 1)Numeros Palindromos\n",
        "####Escriba una función que reciba un numero entero (positivo) o un String y entregue como respuesta si la entrada es o no un palíndromo"
      ]
    },
    {
      "cell_type": "code",
      "metadata": {
        "colab": {
          "base_uri": "https://localhost:8080/"
        },
        "id": "SiNlst-8yYfT",
        "outputId": "ce61b522-28c4-4132-94fa-12b1d287bfe5"
      },
      "source": [
        "# palindromos\n",
        "\n",
        "palabra =input(\"Introduce la palabra: \")\n",
        "reversed_palabra = palabra\n",
        "palabra = list(palabra)\n",
        "reversed_palabra = list(reversed_palabra)\n",
        "reversed_palabra.reverse()\n",
        "if palabra == reversed_palabra:\n",
        "  print(\"Es un palindromo\")\n",
        "else: print(\"No es palindromo\")\n"
      ],
      "execution_count": 20,
      "outputs": [
        {
          "output_type": "stream",
          "text": [
            "Introduce la palabra: ana\n",
            "Es un palindromo\n"
          ],
          "name": "stdout"
        }
      ]
    },
    {
      "cell_type": "markdown",
      "metadata": {
        "id": "pKQfWt8U3cIm"
      },
      "source": [
        "# 2)Numeros Primos\n",
        "####Escriba una función que reciba como entrada un número y determine si es o no un numero primo. "
      ]
    },
    {
      "cell_type": "code",
      "metadata": {
        "colab": {
          "base_uri": "https://localhost:8080/"
        },
        "id": "oghmt_4PcjSv",
        "outputId": "ce5007ad-65f4-4b9e-a15a-dbe738b65a7d"
      },
      "source": [
        "#Numeros Primos \n",
        "numero= int(input(\"¿Qué número quieres saber si es primo? \"))\n",
        "valor= range(2,numero)\n",
        "contador = 0\n",
        "for n in valor:\n",
        "  if numero % n == 0:\n",
        "    contador +=1\n",
        "    print(\"divisor:\", n)\n",
        "\n",
        "if contador > 0 :\n",
        "  print(\"El número no es primo\" )\n",
        "else:\n",
        "  print(\"El nÚmero es primo\")"
      ],
      "execution_count": 19,
      "outputs": [
        {
          "output_type": "stream",
          "text": [
            "¿Qué número quieres saber si es primo? 3\n",
            "El nÚmero es primo\n"
          ],
          "name": "stdout"
        }
      ]
    },
    {
      "cell_type": "markdown",
      "metadata": {
        "id": "lX2-CIojc7mX"
      },
      "source": [
        "# 3)Numeros primos 2\n",
        "####Escriba una función que devuelva una lista de numeros primos con base a la cantidad que el usuario le solicite, Ejemplo si el usuario ingresa 3 debe retornar los 3 primeros numeros primos."
      ]
    },
    {
      "cell_type": "code",
      "metadata": {
        "colab": {
          "base_uri": "https://localhost:8080/"
        },
        "id": "lUTeO3yzZBtJ",
        "outputId": "bd2e3afb-966d-4eb3-f30a-b61a6e6ff215"
      },
      "source": [
        "lista = int(input('¿Hasta qué número quieres la lista?: '))\n",
        "cont = 0\n",
        "for i in range(2, lista + 1):\n",
        "    primos = True\n",
        "    for j in range(2,11):\n",
        "        if i == j:\n",
        "           break\n",
        "        elif i%j == 0:\n",
        "           primos = False\n",
        "        else:\n",
        "           continue\n",
        "    if primos == True:\n",
        "        print(' ',i, end='')\n",
        "        cont += 1\n",
        "print('\\nHay %u números primos.' % cont )"
      ],
      "execution_count": 24,
      "outputs": [
        {
          "output_type": "stream",
          "text": [
            "¿Hasta qué número quieres la lista?: 5\n",
            "  2  3  5\n",
            "Hay 3 números primos.\n"
          ],
          "name": "stdout"
        }
      ]
    },
    {
      "cell_type": "markdown",
      "metadata": {
        "id": "9AzgkDIUf-kE"
      },
      "source": [
        "# 3)umeros primos 3\n",
        "####El primo de Mersenne es un numero primo de la forma 2𝑝 − 1, una de las propiedades de los primos de Mersenne es que p debe ser también un número primo, escriba una función queimprima la cantidad de numeros que el usuario solicite, Ejemplo: si el usuario ingreso 3 los primeros primos de Mersenne deberían ser 3, 7 y 31. \n"
      ]
    },
    {
      "cell_type": "code",
      "metadata": {
        "colab": {
          "base_uri": "https://localhost:8080/"
        },
        "id": "ms0Up2Y_jvx4",
        "outputId": "088e06c5-5cb2-4f43-e9ff-4fed2641c453"
      },
      "source": [
        "def es_mamersenne(num):\n",
        "    primo=True\n",
        " \n",
        "    for i in range(2,numero):\n",
        "        if (numero%i)==0:\n",
        "            primo=False\n",
        "            print('El número no es primo')\n",
        "            break\n",
        " \n",
        "    if primo==True:\n",
        "        for i in range(2,numero+1):\n",
        "            potencia=(math.pow(2,i))\n",
        " \n",
        "            if (potencia-1) == numero:\n",
        "                print('El número {} es Mersenne'.format(numero))\n",
        "                break\n",
        " \n",
        "        else:\n",
        "            print('El número {} es primo pero no Mersenne'.format(numero))\n",
        " \n",
        "numero=int(input('Introduce un número: '))\n",
        "es_mamersenne(numero)"
      ],
      "execution_count": 34,
      "outputs": [
        {
          "output_type": "stream",
          "text": [
            "Introduce un número: 3\n",
            "El número 3 es Mersenne\n"
          ],
          "name": "stdout"
        }
      ]
    },
    {
      "cell_type": "markdown",
      "metadata": {
        "id": "DK_6fm8ZnUe1"
      },
      "source": [
        "# 4)Máximo común divisor:\n",
        "####Escriba una función que reciba dos numeros y retorne el cálculo de su máximo común divisor\n"
      ]
    },
    {
      "cell_type": "code",
      "metadata": {
        "colab": {
          "base_uri": "https://localhost:8080/"
        },
        "id": "2PDqEovAng3f",
        "outputId": "93ee6d9c-da07-444e-80f5-77c92351260a"
      },
      "source": [
        "def mcd(a, b):\n",
        "\tresto = 0\n",
        "\twhile(b > 0):\n",
        "\t\tresto = b\n",
        "\t\tb = a % b\n",
        "\t\ta = resto\n",
        "\treturn a\n",
        " \n",
        "# solicitamos los dos números\n",
        "num1 = int(input(\"Introduce el primer numero: \"))\n",
        "num2 = int(input(\"Introduce el segundo numero: \"))\n",
        " \n",
        "print(\"El máximo común divisor de \", num1,\" y \", num2,\" es \", mcd(num1, num2))"
      ],
      "execution_count": 35,
      "outputs": [
        {
          "output_type": "stream",
          "text": [
            "Introduce el primer numero: 4\n",
            "Introduce el segundo numero: 7\n",
            "El máximo común divisor de  4  y  7  es  1\n"
          ],
          "name": "stdout"
        }
      ]
    },
    {
      "cell_type": "markdown",
      "metadata": {
        "id": "gm7v_4s6n0M4"
      },
      "source": [
        "# 5)Numeros romanos\n",
        "####Escriba una función que reciba un numero y retorne como resultado el numero romano de dicho número."
      ]
    },
    {
      "cell_type": "code",
      "metadata": {
        "colab": {
          "base_uri": "https://localhost:8080/"
        },
        "id": "lZevxr-YpCW5",
        "outputId": "4ae2499f-ea0d-4dd1-dec7-520f1df5a927"
      },
      "source": [
        "import math\n",
        "   Unidad=[\"\", \"I\", \"II\", \"III\", \"IV\", \"V\", \"VI\", \"VII\", \"VIII\", \"IX\"]\n",
        "   Decena=[\"\", \"X\", \"XX\", \"XXX\", \"XL\", \"L\", \"LX\", \"LXX\", \"LXXX\", \"XC\"]\n",
        "   Centena=[\"\", \"C\", \"CC\", \"CCC\", \"CD\", \"D\", \"DC\", \"DCC\", \"DCCC\", \"CM\"]\n",
        "      N=int(input(\"Ingresa numero entero\\n\"))\n",
        "      u= N % 10\n",
        "      d=int(math.floor(N/10))%10\n",
        "      c=int(math.floor(N/100))\n",
        "      if(N>=100): \n",
        "  print(Centena[c]+Decena[d]+Unidad[u])\n",
        "      else:\n",
        "      if(N>=10):\n",
        "  print(Decena[d]+Unidad[u])\n",
        "      else:\n",
        "  print(Unidad[N])"
      ],
      "execution_count": 37,
      "outputs": [
        {
          "output_type": "stream",
          "text": [
            "Ingresa numero entero\n",
            "5\n",
            "V\n"
          ],
          "name": "stdout"
        }
      ]
    },
    {
      "cell_type": "code",
      "metadata": {
        "id": "hob9ZYCdyFrs"
      },
      "source": [
        ""
      ],
      "execution_count": null,
      "outputs": []
    }
  ]
}